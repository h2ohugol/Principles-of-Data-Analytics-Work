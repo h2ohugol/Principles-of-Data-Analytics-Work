{
 "cells": [
  {
   "cell_type": "markdown",
   "metadata": {},
   "source": [
    "# Palmer Penguins\n",
    "***\n",
    "\n",
    "![ from wikimedia](https://upload.wikimedia.org/wikipedia/commons/thumb/2/2a/Ad%C3%A9lie_penguins_in_Antarctica%2C_Antarctic_Peninsula.JPEG/640px-Ad%C3%A9lie_penguins_in_Antarctica%2C_Antarctic_Peninsula.JPEG) \n",
    "\n",
    "\n",
    "This notebook content is on the Palmer Archipelago penguin dataset.\n",
    "\n",
    "The dataset is available [on GitHub](https://allisonhorst.github.io/palmerpenguins/)\n"
   ]
  },
  {
   "cell_type": "markdown",
   "metadata": {},
   "source": [
    "# Libraries\n",
    "***\n"
   ]
  },
  {
   "cell_type": "markdown",
   "metadata": {},
   "source": [
    "We use pandas for the dataFrame data structure.\n",
    "\n",
    "It allows to investigate [CSV](https://pandas.pydata.org/docs/user_guide/10min.html) files, amongst other features.\n",
    "\n",
    "[matplotlib](https://www.w3schools.com/python/matplotlib_pyplot.asp) is theplotting library in python that serves as a \n",
    "visualization utility.\n",
    "\n",
    "[NumPy](https://www.w3schools.com/python/numpy/default.asp) to help us working with arrays.\n",
    "\n"
   ]
  },
  {
   "cell_type": "code",
   "execution_count": 97,
   "metadata": {},
   "outputs": [],
   "source": [
    "# Data frames. \n",
    "import pandas as pd\n",
    "\n",
    "# Plotting.\n",
    "import matplotlib.pyplot as plt\n",
    "\n",
    "# Numerical arrays.\n",
    "import numpy as np\n"
   ]
  },
  {
   "cell_type": "markdown",
   "metadata": {},
   "source": [
    "## Load Data\n",
    "***\n",
    "\n",
    "##### Load the palmer penguins data set from a URL"
   ]
  },
  {
   "cell_type": "code",
   "execution_count": 98,
   "metadata": {},
   "outputs": [],
   "source": [
    "# Load the penguins data set\n",
    "df = pd.read_csv(\"https://raw.githubusercontent.com/mwaskom/seaborn-data/master/penguins.csv\")"
   ]
  },
  {
   "cell_type": "markdown",
   "metadata": {},
   "source": [
    "##### The data in now loaded below so we can inspect it."
   ]
  },
  {
   "cell_type": "code",
   "execution_count": 99,
   "metadata": {},
   "outputs": [
    {
     "data": {
      "text/html": [
       "<div>\n",
       "<style scoped>\n",
       "    .dataframe tbody tr th:only-of-type {\n",
       "        vertical-align: middle;\n",
       "    }\n",
       "\n",
       "    .dataframe tbody tr th {\n",
       "        vertical-align: top;\n",
       "    }\n",
       "\n",
       "    .dataframe thead th {\n",
       "        text-align: right;\n",
       "    }\n",
       "</style>\n",
       "<table border=\"1\" class=\"dataframe\">\n",
       "  <thead>\n",
       "    <tr style=\"text-align: right;\">\n",
       "      <th></th>\n",
       "      <th>species</th>\n",
       "      <th>island</th>\n",
       "      <th>bill_length_mm</th>\n",
       "      <th>bill_depth_mm</th>\n",
       "      <th>flipper_length_mm</th>\n",
       "      <th>body_mass_g</th>\n",
       "      <th>sex</th>\n",
       "    </tr>\n",
       "  </thead>\n",
       "  <tbody>\n",
       "    <tr>\n",
       "      <th>0</th>\n",
       "      <td>Adelie</td>\n",
       "      <td>Torgersen</td>\n",
       "      <td>39.1</td>\n",
       "      <td>18.7</td>\n",
       "      <td>181.0</td>\n",
       "      <td>3750.0</td>\n",
       "      <td>MALE</td>\n",
       "    </tr>\n",
       "    <tr>\n",
       "      <th>1</th>\n",
       "      <td>Adelie</td>\n",
       "      <td>Torgersen</td>\n",
       "      <td>39.5</td>\n",
       "      <td>17.4</td>\n",
       "      <td>186.0</td>\n",
       "      <td>3800.0</td>\n",
       "      <td>FEMALE</td>\n",
       "    </tr>\n",
       "    <tr>\n",
       "      <th>2</th>\n",
       "      <td>Adelie</td>\n",
       "      <td>Torgersen</td>\n",
       "      <td>40.3</td>\n",
       "      <td>18.0</td>\n",
       "      <td>195.0</td>\n",
       "      <td>3250.0</td>\n",
       "      <td>FEMALE</td>\n",
       "    </tr>\n",
       "    <tr>\n",
       "      <th>4</th>\n",
       "      <td>Adelie</td>\n",
       "      <td>Torgersen</td>\n",
       "      <td>36.7</td>\n",
       "      <td>19.3</td>\n",
       "      <td>193.0</td>\n",
       "      <td>3450.0</td>\n",
       "      <td>FEMALE</td>\n",
       "    </tr>\n",
       "    <tr>\n",
       "      <th>5</th>\n",
       "      <td>Adelie</td>\n",
       "      <td>Torgersen</td>\n",
       "      <td>39.3</td>\n",
       "      <td>20.6</td>\n",
       "      <td>190.0</td>\n",
       "      <td>3650.0</td>\n",
       "      <td>MALE</td>\n",
       "    </tr>\n",
       "    <tr>\n",
       "      <th>...</th>\n",
       "      <td>...</td>\n",
       "      <td>...</td>\n",
       "      <td>...</td>\n",
       "      <td>...</td>\n",
       "      <td>...</td>\n",
       "      <td>...</td>\n",
       "      <td>...</td>\n",
       "    </tr>\n",
       "    <tr>\n",
       "      <th>338</th>\n",
       "      <td>Gentoo</td>\n",
       "      <td>Biscoe</td>\n",
       "      <td>47.2</td>\n",
       "      <td>13.7</td>\n",
       "      <td>214.0</td>\n",
       "      <td>4925.0</td>\n",
       "      <td>FEMALE</td>\n",
       "    </tr>\n",
       "    <tr>\n",
       "      <th>340</th>\n",
       "      <td>Gentoo</td>\n",
       "      <td>Biscoe</td>\n",
       "      <td>46.8</td>\n",
       "      <td>14.3</td>\n",
       "      <td>215.0</td>\n",
       "      <td>4850.0</td>\n",
       "      <td>FEMALE</td>\n",
       "    </tr>\n",
       "    <tr>\n",
       "      <th>341</th>\n",
       "      <td>Gentoo</td>\n",
       "      <td>Biscoe</td>\n",
       "      <td>50.4</td>\n",
       "      <td>15.7</td>\n",
       "      <td>222.0</td>\n",
       "      <td>5750.0</td>\n",
       "      <td>MALE</td>\n",
       "    </tr>\n",
       "    <tr>\n",
       "      <th>342</th>\n",
       "      <td>Gentoo</td>\n",
       "      <td>Biscoe</td>\n",
       "      <td>45.2</td>\n",
       "      <td>14.8</td>\n",
       "      <td>212.0</td>\n",
       "      <td>5200.0</td>\n",
       "      <td>FEMALE</td>\n",
       "    </tr>\n",
       "    <tr>\n",
       "      <th>343</th>\n",
       "      <td>Gentoo</td>\n",
       "      <td>Biscoe</td>\n",
       "      <td>49.9</td>\n",
       "      <td>16.1</td>\n",
       "      <td>213.0</td>\n",
       "      <td>5400.0</td>\n",
       "      <td>MALE</td>\n",
       "    </tr>\n",
       "  </tbody>\n",
       "</table>\n",
       "<p>333 rows × 7 columns</p>\n",
       "</div>"
      ],
      "text/plain": [
       "    species     island  bill_length_mm  bill_depth_mm  flipper_length_mm  \\\n",
       "0    Adelie  Torgersen            39.1           18.7              181.0   \n",
       "1    Adelie  Torgersen            39.5           17.4              186.0   \n",
       "2    Adelie  Torgersen            40.3           18.0              195.0   \n",
       "4    Adelie  Torgersen            36.7           19.3              193.0   \n",
       "5    Adelie  Torgersen            39.3           20.6              190.0   \n",
       "..      ...        ...             ...            ...                ...   \n",
       "338  Gentoo     Biscoe            47.2           13.7              214.0   \n",
       "340  Gentoo     Biscoe            46.8           14.3              215.0   \n",
       "341  Gentoo     Biscoe            50.4           15.7              222.0   \n",
       "342  Gentoo     Biscoe            45.2           14.8              212.0   \n",
       "343  Gentoo     Biscoe            49.9           16.1              213.0   \n",
       "\n",
       "     body_mass_g     sex  \n",
       "0         3750.0    MALE  \n",
       "1         3800.0  FEMALE  \n",
       "2         3250.0  FEMALE  \n",
       "4         3450.0  FEMALE  \n",
       "5         3650.0    MALE  \n",
       "..           ...     ...  \n",
       "338       4925.0  FEMALE  \n",
       "340       4850.0  FEMALE  \n",
       "341       5750.0    MALE  \n",
       "342       5200.0  FEMALE  \n",
       "343       5400.0    MALE  \n",
       "\n",
       "[333 rows x 7 columns]"
      ]
     },
     "execution_count": 99,
     "metadata": {},
     "output_type": "execute_result"
    }
   ],
   "source": [
    "# drops all NaN instances.\n",
    "# source: https://stackoverflow.com/questions/44548721/remove-row-with-null-value-from-pandas-data-frame\n",
    "df = df.dropna(how='any',axis=0) \n",
    "\n",
    "# Let's have a look.\n",
    "df"
   ]
  },
  {
   "cell_type": "markdown",
   "metadata": {},
   "source": [
    "### Inspect Data\n",
    "***"
   ]
  },
  {
   "cell_type": "code",
   "execution_count": 100,
   "metadata": {},
   "outputs": [
    {
     "data": {
      "text/plain": [
       "species                 Adelie\n",
       "island               Torgersen\n",
       "bill_length_mm            39.1\n",
       "bill_depth_mm             18.7\n",
       "flipper_length_mm        181.0\n",
       "body_mass_g             3750.0\n",
       "sex                       MALE\n",
       "Name: 0, dtype: object"
      ]
     },
     "execution_count": 100,
     "metadata": {},
     "output_type": "execute_result"
    }
   ],
   "source": [
    "# Look at the first row\n",
    "df.iloc[0]"
   ]
  },
  {
   "cell_type": "code",
   "execution_count": 101,
   "metadata": {},
   "outputs": [
    {
     "data": {
      "text/plain": [
       "0        MALE\n",
       "1      FEMALE\n",
       "2      FEMALE\n",
       "4      FEMALE\n",
       "5        MALE\n",
       "        ...  \n",
       "338    FEMALE\n",
       "340    FEMALE\n",
       "341      MALE\n",
       "342    FEMALE\n",
       "343      MALE\n",
       "Name: sex, Length: 333, dtype: object"
      ]
     },
     "execution_count": 101,
     "metadata": {},
     "output_type": "execute_result"
    }
   ],
   "source": [
    "# Sex of penguins. \n",
    "df['sex']"
   ]
  },
  {
   "cell_type": "code",
   "execution_count": 102,
   "metadata": {},
   "outputs": [
    {
     "data": {
      "text/html": [
       "<div>\n",
       "<style scoped>\n",
       "    .dataframe tbody tr th:only-of-type {\n",
       "        vertical-align: middle;\n",
       "    }\n",
       "\n",
       "    .dataframe tbody tr th {\n",
       "        vertical-align: top;\n",
       "    }\n",
       "\n",
       "    .dataframe thead th {\n",
       "        text-align: right;\n",
       "    }\n",
       "</style>\n",
       "<table border=\"1\" class=\"dataframe\">\n",
       "  <thead>\n",
       "    <tr style=\"text-align: right;\">\n",
       "      <th></th>\n",
       "      <th>bill_length_mm</th>\n",
       "      <th>bill_depth_mm</th>\n",
       "      <th>flipper_length_mm</th>\n",
       "      <th>body_mass_g</th>\n",
       "    </tr>\n",
       "  </thead>\n",
       "  <tbody>\n",
       "    <tr>\n",
       "      <th>count</th>\n",
       "      <td>333.000000</td>\n",
       "      <td>333.000000</td>\n",
       "      <td>333.000000</td>\n",
       "      <td>333.000000</td>\n",
       "    </tr>\n",
       "    <tr>\n",
       "      <th>mean</th>\n",
       "      <td>43.992793</td>\n",
       "      <td>17.164865</td>\n",
       "      <td>200.966967</td>\n",
       "      <td>4207.057057</td>\n",
       "    </tr>\n",
       "    <tr>\n",
       "      <th>std</th>\n",
       "      <td>5.468668</td>\n",
       "      <td>1.969235</td>\n",
       "      <td>14.015765</td>\n",
       "      <td>805.215802</td>\n",
       "    </tr>\n",
       "    <tr>\n",
       "      <th>min</th>\n",
       "      <td>32.100000</td>\n",
       "      <td>13.100000</td>\n",
       "      <td>172.000000</td>\n",
       "      <td>2700.000000</td>\n",
       "    </tr>\n",
       "    <tr>\n",
       "      <th>25%</th>\n",
       "      <td>39.500000</td>\n",
       "      <td>15.600000</td>\n",
       "      <td>190.000000</td>\n",
       "      <td>3550.000000</td>\n",
       "    </tr>\n",
       "    <tr>\n",
       "      <th>50%</th>\n",
       "      <td>44.500000</td>\n",
       "      <td>17.300000</td>\n",
       "      <td>197.000000</td>\n",
       "      <td>4050.000000</td>\n",
       "    </tr>\n",
       "    <tr>\n",
       "      <th>75%</th>\n",
       "      <td>48.600000</td>\n",
       "      <td>18.700000</td>\n",
       "      <td>213.000000</td>\n",
       "      <td>4775.000000</td>\n",
       "    </tr>\n",
       "    <tr>\n",
       "      <th>max</th>\n",
       "      <td>59.600000</td>\n",
       "      <td>21.500000</td>\n",
       "      <td>231.000000</td>\n",
       "      <td>6300.000000</td>\n",
       "    </tr>\n",
       "  </tbody>\n",
       "</table>\n",
       "</div>"
      ],
      "text/plain": [
       "       bill_length_mm  bill_depth_mm  flipper_length_mm  body_mass_g\n",
       "count      333.000000     333.000000         333.000000   333.000000\n",
       "mean        43.992793      17.164865         200.966967  4207.057057\n",
       "std          5.468668       1.969235          14.015765   805.215802\n",
       "min         32.100000      13.100000         172.000000  2700.000000\n",
       "25%         39.500000      15.600000         190.000000  3550.000000\n",
       "50%         44.500000      17.300000         197.000000  4050.000000\n",
       "75%         48.600000      18.700000         213.000000  4775.000000\n",
       "max         59.600000      21.500000         231.000000  6300.000000"
      ]
     },
     "execution_count": 102,
     "metadata": {},
     "output_type": "execute_result"
    }
   ],
   "source": [
    "# Describe the data set.\n",
    "df.describe()"
   ]
  },
  {
   "cell_type": "markdown",
   "metadata": {},
   "source": [
    "# Two Variables Plots\n",
    "***\n"
   ]
  },
  {
   "cell_type": "code",
   "execution_count": 103,
   "metadata": {},
   "outputs": [
    {
     "name": "stdout",
     "output_type": "stream",
     "text": [
      "0      39.1\n",
      "1      39.5\n",
      "2      40.3\n",
      "4      36.7\n",
      "5      39.3\n",
      "       ... \n",
      "338    47.2\n",
      "340    46.8\n",
      "341    50.4\n",
      "342    45.2\n",
      "343    49.9\n",
      "Name: bill_length_mm, Length: 333, dtype: float64\n",
      "<class 'pandas.core.series.Series'>\n"
     ]
    }
   ],
   "source": [
    "# Get only the bill lengths.\n",
    "blen = df['bill_length_mm']\n",
    "\n",
    "# Show.\n",
    "print(blen)\n",
    "\n",
    "# Type\n",
    "print(type(blen))"
   ]
  },
  {
   "cell_type": "code",
   "execution_count": 104,
   "metadata": {},
   "outputs": [
    {
     "data": {
      "text/plain": [
       "array([39.1, 39.5, 40.3, 36.7, 39.3, 38.9, 39.2, 41.1, 38.6, 34.6, 36.6,\n",
       "       38.7, 42.5, 34.4, 46. , 37.8, 37.7, 35.9, 38.2, 38.8, 35.3, 40.6,\n",
       "       40.5, 37.9, 40.5, 39.5, 37.2, 39.5, 40.9, 36.4, 39.2, 38.8, 42.2,\n",
       "       37.6, 39.8, 36.5, 40.8, 36. , 44.1, 37. , 39.6, 41.1, 36. , 42.3,\n",
       "       39.6, 40.1, 35. , 42. , 34.5, 41.4, 39. , 40.6, 36.5, 37.6, 35.7,\n",
       "       41.3, 37.6, 41.1, 36.4, 41.6, 35.5, 41.1, 35.9, 41.8, 33.5, 39.7,\n",
       "       39.6, 45.8, 35.5, 42.8, 40.9, 37.2, 36.2, 42.1, 34.6, 42.9, 36.7,\n",
       "       35.1, 37.3, 41.3, 36.3, 36.9, 38.3, 38.9, 35.7, 41.1, 34. , 39.6,\n",
       "       36.2, 40.8, 38.1, 40.3, 33.1, 43.2, 35. , 41. , 37.7, 37.8, 37.9,\n",
       "       39.7, 38.6, 38.2, 38.1, 43.2, 38.1, 45.6, 39.7, 42.2, 39.6, 42.7,\n",
       "       38.6, 37.3, 35.7, 41.1, 36.2, 37.7, 40.2, 41.4, 35.2, 40.6, 38.8,\n",
       "       41.5, 39. , 44.1, 38.5, 43.1, 36.8, 37.5, 38.1, 41.1, 35.6, 40.2,\n",
       "       37. , 39.7, 40.2, 40.6, 32.1, 40.7, 37.3, 39. , 39.2, 36.6, 36. ,\n",
       "       37.8, 36. , 41.5, 46.5, 50. , 51.3, 45.4, 52.7, 45.2, 46.1, 51.3,\n",
       "       46. , 51.3, 46.6, 51.7, 47. , 52. , 45.9, 50.5, 50.3, 58. , 46.4,\n",
       "       49.2, 42.4, 48.5, 43.2, 50.6, 46.7, 52. , 50.5, 49.5, 46.4, 52.8,\n",
       "       40.9, 54.2, 42.5, 51. , 49.7, 47.5, 47.6, 52. , 46.9, 53.5, 49. ,\n",
       "       46.2, 50.9, 45.5, 50.9, 50.8, 50.1, 49. , 51.5, 49.8, 48.1, 51.4,\n",
       "       45.7, 50.7, 42.5, 52.2, 45.2, 49.3, 50.2, 45.6, 51.9, 46.8, 45.7,\n",
       "       55.8, 43.5, 49.6, 50.8, 50.2, 46.1, 50. , 48.7, 50. , 47.6, 46.5,\n",
       "       45.4, 46.7, 43.3, 46.8, 40.9, 49. , 45.5, 48.4, 45.8, 49.3, 42. ,\n",
       "       49.2, 46.2, 48.7, 50.2, 45.1, 46.5, 46.3, 42.9, 46.1, 47.8, 48.2,\n",
       "       50. , 47.3, 42.8, 45.1, 59.6, 49.1, 48.4, 42.6, 44.4, 44. , 48.7,\n",
       "       42.7, 49.6, 45.3, 49.6, 50.5, 43.6, 45.5, 50.5, 44.9, 45.2, 46.6,\n",
       "       48.5, 45.1, 50.1, 46.5, 45. , 43.8, 45.5, 43.2, 50.4, 45.3, 46.2,\n",
       "       45.7, 54.3, 45.8, 49.8, 49.5, 43.5, 50.7, 47.7, 46.4, 48.2, 46.5,\n",
       "       46.4, 48.6, 47.5, 51.1, 45.2, 45.2, 49.1, 52.5, 47.4, 50. , 44.9,\n",
       "       50.8, 43.4, 51.3, 47.5, 52.1, 47.5, 52.2, 45.5, 49.5, 44.5, 50.8,\n",
       "       49.4, 46.9, 48.4, 51.1, 48.5, 55.9, 47.2, 49.1, 46.8, 41.7, 53.4,\n",
       "       43.3, 48.1, 50.5, 49.8, 43.5, 51.5, 46.2, 55.1, 48.8, 47.2, 46.8,\n",
       "       50.4, 45.2, 49.9])"
      ]
     },
     "execution_count": 104,
     "metadata": {},
     "output_type": "execute_result"
    }
   ],
   "source": [
    "# Get only the numpy array.\n",
    "\n",
    "blen = blen.to_numpy()\n",
    "\n",
    "# Show.\n",
    "blen"
   ]
  },
  {
   "cell_type": "code",
   "execution_count": 105,
   "metadata": {},
   "outputs": [
    {
     "data": {
      "text/plain": [
       "array([18.7, 17.4, 18. , 19.3, 20.6, 17.8, 19.6, 17.6, 21.2, 21.1, 17.8,\n",
       "       19. , 20.7, 18.4, 21.5, 18.3, 18.7, 19.2, 18.1, 17.2, 18.9, 18.6,\n",
       "       17.9, 18.6, 18.9, 16.7, 18.1, 17.8, 18.9, 17. , 21.1, 20. , 18.5,\n",
       "       19.3, 19.1, 18. , 18.4, 18.5, 19.7, 16.9, 18.8, 19. , 17.9, 21.2,\n",
       "       17.7, 18.9, 17.9, 19.5, 18.1, 18.6, 17.5, 18.8, 16.6, 19.1, 16.9,\n",
       "       21.1, 17. , 18.2, 17.1, 18. , 16.2, 19.1, 16.6, 19.4, 19. , 18.4,\n",
       "       17.2, 18.9, 17.5, 18.5, 16.8, 19.4, 16.1, 19.1, 17.2, 17.6, 18.8,\n",
       "       19.4, 17.8, 20.3, 19.5, 18.6, 19.2, 18.8, 18. , 18.1, 17.1, 18.1,\n",
       "       17.3, 18.9, 18.6, 18.5, 16.1, 18.5, 17.9, 20. , 16. , 20. , 18.6,\n",
       "       18.9, 17.2, 20. , 17. , 19. , 16.5, 20.3, 17.7, 19.5, 20.7, 18.3,\n",
       "       17. , 20.5, 17. , 18.6, 17.2, 19.8, 17. , 18.5, 15.9, 19. , 17.6,\n",
       "       18.3, 17.1, 18. , 17.9, 19.2, 18.5, 18.5, 17.6, 17.5, 17.5, 20.1,\n",
       "       16.5, 17.9, 17.1, 17.2, 15.5, 17. , 16.8, 18.7, 18.6, 18.4, 17.8,\n",
       "       18.1, 17.1, 18.5, 17.9, 19.5, 19.2, 18.7, 19.8, 17.8, 18.2, 18.2,\n",
       "       18.9, 19.9, 17.8, 20.3, 17.3, 18.1, 17.1, 19.6, 20. , 17.8, 18.6,\n",
       "       18.2, 17.3, 17.5, 16.6, 19.4, 17.9, 19. , 18.4, 19. , 17.8, 20. ,\n",
       "       16.6, 20.8, 16.7, 18.8, 18.6, 16.8, 18.3, 20.7, 16.6, 19.9, 19.5,\n",
       "       17.5, 19.1, 17. , 17.9, 18.5, 17.9, 19.6, 18.7, 17.3, 16.4, 19. ,\n",
       "       17.3, 19.7, 17.3, 18.8, 16.6, 19.9, 18.8, 19.4, 19.5, 16.5, 17. ,\n",
       "       19.8, 18.1, 18.2, 19. , 18.7, 13.2, 16.3, 14.1, 15.2, 14.5, 13.5,\n",
       "       14.6, 15.3, 13.4, 15.4, 13.7, 16.1, 13.7, 14.6, 14.6, 15.7, 13.5,\n",
       "       15.2, 14.5, 15.1, 14.3, 14.5, 14.5, 15.8, 13.1, 15.1, 15. , 14.3,\n",
       "       15.3, 15.3, 14.2, 14.5, 17. , 14.8, 16.3, 13.7, 17.3, 13.6, 15.7,\n",
       "       13.7, 16. , 13.7, 15. , 15.9, 13.9, 13.9, 15.9, 13.3, 15.8, 14.2,\n",
       "       14.1, 14.4, 15. , 14.4, 15.4, 13.9, 15. , 14.5, 15.3, 13.8, 14.9,\n",
       "       13.9, 15.7, 14.2, 16.8, 16.2, 14.2, 15. , 15. , 15.6, 15.6, 14.8,\n",
       "       15. , 16. , 14.2, 16.3, 13.8, 16.4, 14.5, 15.6, 14.6, 15.9, 13.8,\n",
       "       17.3, 14.4, 14.2, 14. , 17. , 15. , 17.1, 14.5, 16.1, 14.7, 15.7,\n",
       "       15.8, 14.6, 14.4, 16.5, 15. , 17. , 15.5, 15. , 16.1, 14.7, 15.8,\n",
       "       14. , 15.1, 15.2, 15.9, 15.2, 16.3, 14.1, 16. , 16.2, 13.7, 14.3,\n",
       "       15.7, 14.8, 16.1])"
      ]
     },
     "execution_count": 105,
     "metadata": {},
     "output_type": "execute_result"
    }
   ],
   "source": [
    "# Bill depths\n",
    "bdepth = df['bill_depth_mm'].to_numpy()\n",
    "\n",
    "# Show.\n",
    "bdepth"
   ]
  },
  {
   "cell_type": "code",
   "execution_count": 106,
   "metadata": {},
   "outputs": [
    {
     "data": {
      "text/plain": [
       "(12.5, 23.0)"
      ]
     },
     "execution_count": 106,
     "metadata": {},
     "output_type": "execute_result"
    },
    {
     "data": {
      "image/png": "[encoded data removed]",
      "text/plain": [
       "<Figure size 640x480 with 1 Axes>"
      ]
     },
     "metadata": {},
     "output_type": "display_data"
    }
   ],
   "source": [
    "# Simple plot\n",
    "plt.plot(blen,bdepth, 'x')\n",
    "\n",
    "# Axis Labels.\n",
    "plt.xlabel('bill length (mm)')\n",
    "plt.ylabel('bill depth (mm)')\n",
    "\n",
    "# Title.\n",
    "plt.title('Penguins Data Set')\n",
    "\n",
    "# X Limits.\n",
    "plt.xlim(30, 60)\n",
    "\n",
    "# Y Limits.\n",
    "plt.ylim(12.5, 23)\n",
    "\n"
   ]
  },
  {
   "cell_type": "code",
   "execution_count": 107,
   "metadata": {},
   "outputs": [
    {
     "data": {
      "text/plain": [
       "(12.5, 23.0)"
      ]
     },
     "execution_count": 107,
     "metadata": {},
     "output_type": "execute_result"
    },
    {
     "data": {
      "image/png": "[encoded data removed]",
      "text/plain": [
       "<Figure size 640x480 with 1 Axes>"
      ]
     },
     "metadata": {},
     "output_type": "display_data"
    }
   ],
   "source": [
    "# create aa new figure and set of axes.\n",
    "fig, ax = plt.subplots()\n",
    "\n",
    "# Simple plot.\n",
    "ax.plot(blen, bdepth, 'x')\n",
    "\n",
    "# Axis Labels.\n",
    "ax.set_xlabel('bill length (mm)')\n",
    "ax.set_ylabel('bill depth (mm)')\n",
    "\n",
    "# Title\n",
    "ax.set_title('Penguins Data Set')\n",
    "\n",
    "# X Limits\n",
    "ax.set_xlim(30, 60)\n",
    "\n",
    "# Y Limits\n",
    "ax.set_ylim(12.5, 23)\n",
    "\n",
    "\n"
   ]
  },
  {
   "cell_type": "markdown",
   "metadata": {},
   "source": [
    "#### Add a best fit line.\n",
    "***\n",
    "\n",
    "$ y = mx + c = p_1 x^1 + p_0 = p_1 x + p_0$"
   ]
  },
  {
   "cell_type": "code",
   "execution_count": 108,
   "metadata": {},
   "outputs": [
    {
     "data": {
      "text/plain": [
       "(-0.08232675339862267, 20.786648668433816)"
      ]
     },
     "execution_count": 108,
     "metadata": {},
     "output_type": "execute_result"
    }
   ],
   "source": [
    "# Fit a straight line between x and y.\n",
    "m, c = np.polyfit(blen, bdepth, 1)\n",
    "\n",
    "# Show m and c.\n",
    "m, c"
   ]
  },
  {
   "cell_type": "markdown",
   "metadata": {},
   "source": [
    "## Tables\n",
    "\n",
    "\n",
    "\n",
    "***\n",
    "\n",
    "\n",
    "\n",
    "|Species      |Bill Length (mm)  |Bill Depth (mm)    |Flipper length (mm)  |Body Mass (g)  |\n",
    "|:-----------:|:----------------:|:-----------------:|:-------------------:|:-------------:|\n",
    "|Adelie       |              38.8|               18.3|                 190.|          3701.|\n",
    "|Chinstrap    |              48.8|               18.4|                 196.|          3733.|\n",
    "|Gentoo       |              47.5|               15.0|                 217.|          5076.|\n",
    "\n",
    "\n",
    "###### NOTE: This is only an example of Markdown tables, for our work we'll use python to do it progammatically."
   ]
  },
  {
   "cell_type": "markdown",
   "metadata": {},
   "source": [
    "#### Research information\n",
    "\n",
    " All the knowledge an information has been taken from my course on Principles of Data Analytics 2024 given by \n",
    " Mr Ian McLoughlin [at ATU](https://www.atu.ie/) and other different main internet sources as follows:\n",
    "\n",
    "\n",
    "[Google](https://www.google.ie/),\n",
    "[Visual Studio Code](https://code.visualstudio.com/),\n",
    "[ANACONDA](https://www.anaconda.com/),\n",
    "[GIT](https://git-scm.com/),\n",
    "[Markdown](https://developer.mozilla.org/en-US/docs/MDN/Writing_guidelines/Howto/Markdown_in_MDN),\n",
    "[GitHub](https://github.com/),\n",
    "[python](https://numpy.org/doc/stable/index.html),\n",
    "[Real Python](https://realpython.com/),\n",
    "[W3schools](https://www.w3schools.com/python/default.asp),\n",
    "[pandas](https://pandas.pydata.org/),\n",
    "and [NumPy](https://numpy.org/doc/stable/index.html) among many other links includinG [WIKIPEDIA](https://www.wikipedia.org/)."
   ]
  },
  {
   "cell_type": "markdown",
   "metadata": {},
   "source": [
    "***\n",
    "\n",
    "### End"
   ]
  }
 ],
 "metadata": {
  "kernelspec": {
   "display_name": "base",
   "language": "python",
   "name": "python3"
  },
  "language_info": {
   "codemirror_mode": {
    "name": "ipython",
    "version": 3
   },
   "file_extension": ".py",
   "mimetype": "text/x-python",
   "name": "python",
   "nbconvert_exporter": "python",
   "pygments_lexer": "ipython3",
   "version": "3.11.5"
  }
 },
 "nbformat": 4,
 "nbformat_minor": 2
}
